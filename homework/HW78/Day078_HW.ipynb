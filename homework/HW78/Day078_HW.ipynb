{
 "cells": [
  {
   "cell_type": "markdown",
   "metadata": {},
   "source": [
    "## Work\n",
    "1. 請嘗試將 preproc_x 替換成以每筆資料的 min/max 進行標準化至 -1 ~ 1 間，再進行訓練\n",
    "2. 請嘗試將 mlp 疊更深 (e.g 5~10 層)，進行訓練後觀察 learning curve 的走勢\n",
    "3. (optional) 請改用 GPU 進行訓練 (如果你有 GPU 的話)，比較使用 CPU 與 GPU 的訓練速度"
   ]
  },
  {
   "cell_type": "code",
   "execution_count": 1,
   "metadata": {},
   "outputs": [
    {
     "name": "stderr",
     "output_type": "stream",
     "text": [
      "'nvidia-smi' 不是內部或外部命令、可執行的程式或批次檔。\n"
     ]
    }
   ],
   "source": [
    "## \n",
    "\"\"\"\n",
    "Your code here (optional)\n",
    "確認硬體資源\n",
    "\"\"\"\n",
    "!nvidia-smi"
   ]
  },
  {
   "cell_type": "code",
   "execution_count": 17,
   "metadata": {},
   "outputs": [],
   "source": [
    "import os\n",
    "import keras\n",
    "\n",
    "\n",
    "# 請嘗試設定 GPU：os.environ\n",
    "# 啟用 GPU, 將 GPU 設定在有空檔的 GPU\n",
    "os.environ[\"CUDA_DEVICE_ORDER\"]=\"PCI_BUS_ID\" # 設定 smi 看到的 GPU ID 符合實際設定的順序 (若一台機器有多張不同型號的卡時，會有此類問題)\n",
    "os.environ[\"CUDA_VISIBLE_DEVICES\"] = \"5\""
   ]
  },
  {
   "cell_type": "code",
   "execution_count": 3,
   "metadata": {},
   "outputs": [],
   "source": [
    "train, test = keras.datasets.cifar10.load_data()"
   ]
  },
  {
   "cell_type": "code",
   "execution_count": 4,
   "metadata": {},
   "outputs": [],
   "source": [
    "## 資料前處理\n",
    "\"\"\"\n",
    "Your code here\n",
    "\"\"\"\n",
    "\n",
    "def preproc_x(x, flatten=True):\n",
    "    x = 2*(((x - x.min()) / (x.max() - x.min()))-0.5)\n",
    "    if flatten:\n",
    "        x = x.reshape((len(x), -1))\n",
    "    return x\n",
    "\n",
    "def preproc_y(y, num_classes=10):\n",
    "    if y.shape[-1] == 1:\n",
    "        y = keras.utils.to_categorical(y, num_classes)\n",
    "    return y    "
   ]
  },
  {
   "cell_type": "code",
   "execution_count": 5,
   "metadata": {},
   "outputs": [],
   "source": [
    "x_train, y_train = train\n",
    "x_test, y_test = test\n",
    "\n",
    "# Preproc the inputs\n",
    "x_train = preproc_x(x_train)\n",
    "x_test = preproc_x(x_test)\n",
    "\n",
    "# Preprc the outputs\n",
    "y_train = preproc_y(y_train)\n",
    "y_test = preproc_y(y_test)"
   ]
  },
  {
   "cell_type": "code",
   "execution_count": 7,
   "metadata": {},
   "outputs": [],
   "source": [
    "\"\"\"Code Here\n",
    "建立你的神經網路\n",
    "\"\"\"\n",
    "\n",
    "#output_units 一層節點數\n",
    "#num_neurons層數\n",
    "\n",
    "def build_mlp(input_shape, output_units=10, num_neurons=[512, 256, 128, 128, 128]):\n",
    "    input_layer = keras.layers.Input(input_shape)\n",
    "    \n",
    "    for i, n_units in enumerate(num_neurons):\n",
    "        if i == 0:\n",
    "            x = keras.layers.Dense(units=n_units, activation=\"relu\", name=\"hidden_layer\"+str(i+1))(input_layer)\n",
    "        else:\n",
    "            x = keras.layers.Dense(units=n_units, activation=\"relu\", name=\"hidden_layer\"+str(i+1))(x)\n",
    "    \n",
    "    out = keras.layers.Dense(units=output_units, activation=\"softmax\", name=\"output\")(x)\n",
    "    \n",
    "    model = keras.models.Model(inputs=[input_layer], outputs=[out])\n",
    "    return model\n"
   ]
  },
  {
   "cell_type": "code",
   "execution_count": 8,
   "metadata": {},
   "outputs": [
    {
     "name": "stdout",
     "output_type": "stream",
     "text": [
      "Model: \"model_1\"\n",
      "_________________________________________________________________\n",
      "Layer (type)                 Output Shape              Param #   \n",
      "=================================================================\n",
      "input_1 (InputLayer)         (None, 3072)              0         \n",
      "_________________________________________________________________\n",
      "hidden_layer1 (Dense)        (None, 512)               1573376   \n",
      "_________________________________________________________________\n",
      "hidden_layer2 (Dense)        (None, 256)               131328    \n",
      "_________________________________________________________________\n",
      "hidden_layer3 (Dense)        (None, 128)               32896     \n",
      "_________________________________________________________________\n",
      "hidden_layer4 (Dense)        (None, 128)               16512     \n",
      "_________________________________________________________________\n",
      "hidden_layer5 (Dense)        (None, 128)               16512     \n",
      "_________________________________________________________________\n",
      "output (Dense)               (None, 10)                1290      \n",
      "=================================================================\n",
      "Total params: 1,771,914\n",
      "Trainable params: 1,771,914\n",
      "Non-trainable params: 0\n",
      "_________________________________________________________________\n"
     ]
    }
   ],
   "source": [
    "model = build_mlp(input_shape=x_train.shape[1:])\n",
    "model.summary()"
   ]
  },
  {
   "cell_type": "code",
   "execution_count": 9,
   "metadata": {},
   "outputs": [],
   "source": [
    "## 超參數設定\n",
    "LEARNING_RATE = 0.001\n",
    "EPOCHS = 100\n",
    "BATCH_SIZE = 256"
   ]
  },
  {
   "cell_type": "code",
   "execution_count": 10,
   "metadata": {},
   "outputs": [],
   "source": [
    "optimizer = keras.optimizers.Adam(lr=LEARNING_RATE)\n",
    "model.compile(loss=\"categorical_crossentropy\", metrics=[\"accuracy\"], optimizer=optimizer)"
   ]
  },
  {
   "cell_type": "code",
   "execution_count": 11,
   "metadata": {},
   "outputs": [
    {
     "name": "stdout",
     "output_type": "stream",
     "text": [
      "Train on 50000 samples, validate on 10000 samples\n",
      "Epoch 1/100\n",
      "50000/50000 [==============================] - 10s 206us/step - loss: 1.6863 - accuracy: 0.3983 - val_loss: 1.5554 - val_accuracy: 0.4553\n",
      "Epoch 2/100\n",
      "50000/50000 [==============================] - 9s 173us/step - loss: 1.4591 - accuracy: 0.4832 - val_loss: 1.4533 - val_accuracy: 0.4807\n",
      "Epoch 3/100\n",
      "50000/50000 [==============================] - 9s 170us/step - loss: 1.3444 - accuracy: 0.5236 - val_loss: 1.3757 - val_accuracy: 0.5215\n",
      "Epoch 4/100\n",
      "50000/50000 [==============================] - 9s 171us/step - loss: 1.2488 - accuracy: 0.5582 - val_loss: 1.3923 - val_accuracy: 0.5141\n",
      "Epoch 5/100\n",
      "50000/50000 [==============================] - 8s 163us/step - loss: 1.1732 - accuracy: 0.5854 - val_loss: 1.3925 - val_accuracy: 0.5239\n",
      "Epoch 6/100\n",
      "50000/50000 [==============================] - 8s 157us/step - loss: 1.0949 - accuracy: 0.6086 - val_loss: 1.4026 - val_accuracy: 0.5234\n",
      "Epoch 7/100\n",
      "50000/50000 [==============================] - 8s 154us/step - loss: 1.0189 - accuracy: 0.6394 - val_loss: 1.3471 - val_accuracy: 0.5403\n",
      "Epoch 8/100\n",
      "50000/50000 [==============================] - 8s 155us/step - loss: 0.9429 - accuracy: 0.6680 - val_loss: 1.4021 - val_accuracy: 0.5290\n",
      "Epoch 9/100\n",
      "50000/50000 [==============================] - 8s 151us/step - loss: 0.8738 - accuracy: 0.6910 - val_loss: 1.4231 - val_accuracy: 0.5302\n",
      "Epoch 10/100\n",
      "50000/50000 [==============================] - 8s 160us/step - loss: 0.8119 - accuracy: 0.7108 - val_loss: 1.5098 - val_accuracy: 0.5261\n",
      "Epoch 11/100\n",
      "50000/50000 [==============================] - 8s 162us/step - loss: 0.7436 - accuracy: 0.7360 - val_loss: 1.5161 - val_accuracy: 0.5352\n",
      "Epoch 12/100\n",
      "50000/50000 [==============================] - 8s 167us/step - loss: 0.6921 - accuracy: 0.7537 - val_loss: 1.5770 - val_accuracy: 0.5362\n",
      "Epoch 13/100\n",
      "50000/50000 [==============================] - 8s 160us/step - loss: 0.6310 - accuracy: 0.7747 - val_loss: 1.6332 - val_accuracy: 0.5293\n",
      "Epoch 14/100\n",
      "50000/50000 [==============================] - 8s 162us/step - loss: 0.5785 - accuracy: 0.7949 - val_loss: 1.7766 - val_accuracy: 0.5279\n",
      "Epoch 15/100\n",
      "50000/50000 [==============================] - 8s 156us/step - loss: 0.5294 - accuracy: 0.8107 - val_loss: 1.8577 - val_accuracy: 0.5303\n",
      "Epoch 16/100\n",
      "50000/50000 [==============================] - 8s 154us/step - loss: 0.4820 - accuracy: 0.8290 - val_loss: 1.9273 - val_accuracy: 0.5218\n",
      "Epoch 17/100\n",
      "50000/50000 [==============================] - 8s 166us/step - loss: 0.4559 - accuracy: 0.8383 - val_loss: 2.0544 - val_accuracy: 0.5210\n",
      "Epoch 18/100\n",
      "50000/50000 [==============================] - 8s 166us/step - loss: 0.4157 - accuracy: 0.8531 - val_loss: 2.1099 - val_accuracy: 0.5255\n",
      "Epoch 19/100\n",
      "50000/50000 [==============================] - 8s 151us/step - loss: 0.3880 - accuracy: 0.8616 - val_loss: 2.1191 - val_accuracy: 0.5350\n",
      "Epoch 20/100\n",
      "50000/50000 [==============================] - 8s 164us/step - loss: 0.3513 - accuracy: 0.8750 - val_loss: 2.2749 - val_accuracy: 0.5214\n",
      "Epoch 21/100\n",
      "50000/50000 [==============================] - 8s 161us/step - loss: 0.3346 - accuracy: 0.8817 - val_loss: 2.3038 - val_accuracy: 0.5282\n",
      "Epoch 22/100\n",
      "50000/50000 [==============================] - 8s 169us/step - loss: 0.3026 - accuracy: 0.8944 - val_loss: 2.4584 - val_accuracy: 0.5301\n",
      "Epoch 23/100\n",
      "50000/50000 [==============================] - 8s 159us/step - loss: 0.2982 - accuracy: 0.8951 - val_loss: 2.5524 - val_accuracy: 0.5293\n",
      "Epoch 24/100\n",
      "50000/50000 [==============================] - 8s 167us/step - loss: 0.2655 - accuracy: 0.9071 - val_loss: 2.6474 - val_accuracy: 0.5319\n",
      "Epoch 25/100\n",
      "50000/50000 [==============================] - 8s 152us/step - loss: 0.2441 - accuracy: 0.9148 - val_loss: 2.7957 - val_accuracy: 0.5241\n",
      "Epoch 26/100\n",
      "50000/50000 [==============================] - 9s 171us/step - loss: 0.2408 - accuracy: 0.9154 - val_loss: 2.7485 - val_accuracy: 0.5277\n",
      "Epoch 27/100\n",
      "50000/50000 [==============================] - 8s 152us/step - loss: 0.2441 - accuracy: 0.9151 - val_loss: 2.7277 - val_accuracy: 0.5307\n",
      "Epoch 28/100\n",
      "50000/50000 [==============================] - 9s 187us/step - loss: 0.2221 - accuracy: 0.9244 - val_loss: 2.7990 - val_accuracy: 0.5223\n",
      "Epoch 29/100\n",
      "50000/50000 [==============================] - 9s 173us/step - loss: 0.2001 - accuracy: 0.9302 - val_loss: 3.0670 - val_accuracy: 0.5251\n",
      "Epoch 30/100\n",
      "50000/50000 [==============================] - 8s 168us/step - loss: 0.1971 - accuracy: 0.9323 - val_loss: 3.1257 - val_accuracy: 0.5253\n",
      "Epoch 31/100\n",
      "50000/50000 [==============================] - 9s 182us/step - loss: 0.2011 - accuracy: 0.9308 - val_loss: 3.0736 - val_accuracy: 0.5281\n",
      "Epoch 32/100\n",
      "50000/50000 [==============================] - 9s 189us/step - loss: 0.1820 - accuracy: 0.9373 - val_loss: 3.0970 - val_accuracy: 0.5259\n",
      "Epoch 33/100\n",
      "50000/50000 [==============================] - 8s 157us/step - loss: 0.1796 - accuracy: 0.9396 - val_loss: 3.0917 - val_accuracy: 0.5318\n",
      "Epoch 34/100\n",
      "50000/50000 [==============================] - 9s 175us/step - loss: 0.1763 - accuracy: 0.9390 - val_loss: 3.3002 - val_accuracy: 0.5216\n",
      "Epoch 35/100\n",
      "50000/50000 [==============================] - 8s 159us/step - loss: 0.1692 - accuracy: 0.9415 - val_loss: 3.3027 - val_accuracy: 0.5217\n",
      "Epoch 36/100\n",
      "50000/50000 [==============================] - 8s 151us/step - loss: 0.1671 - accuracy: 0.9432 - val_loss: 3.4146 - val_accuracy: 0.5204\n",
      "Epoch 37/100\n",
      "50000/50000 [==============================] - 8s 158us/step - loss: 0.1553 - accuracy: 0.9472 - val_loss: 3.4832 - val_accuracy: 0.5200\n",
      "Epoch 38/100\n",
      "50000/50000 [==============================] - 9s 170us/step - loss: 0.1604 - accuracy: 0.9451 - val_loss: 3.4423 - val_accuracy: 0.5224\n",
      "Epoch 39/100\n",
      "50000/50000 [==============================] - 9s 178us/step - loss: 0.1511 - accuracy: 0.9485 - val_loss: 3.5389 - val_accuracy: 0.5179\n",
      "Epoch 40/100\n",
      "50000/50000 [==============================] - 10s 197us/step - loss: 0.1604 - accuracy: 0.9455 - val_loss: 3.4917 - val_accuracy: 0.5139\n",
      "Epoch 41/100\n",
      "50000/50000 [==============================] - 9s 171us/step - loss: 0.1501 - accuracy: 0.9495 - val_loss: 3.5533 - val_accuracy: 0.5245\n",
      "Epoch 42/100\n",
      "50000/50000 [==============================] - 8s 166us/step - loss: 0.1361 - accuracy: 0.9546 - val_loss: 3.6293 - val_accuracy: 0.5203\n",
      "Epoch 43/100\n",
      "50000/50000 [==============================] - 8s 170us/step - loss: 0.1326 - accuracy: 0.9559 - val_loss: 3.7799 - val_accuracy: 0.5182\n",
      "Epoch 44/100\n",
      "50000/50000 [==============================] - 9s 176us/step - loss: 0.1387 - accuracy: 0.9543 - val_loss: 3.6553 - val_accuracy: 0.5255\n",
      "Epoch 45/100\n",
      "50000/50000 [==============================] - 9s 174us/step - loss: 0.1279 - accuracy: 0.9573 - val_loss: 3.8777 - val_accuracy: 0.5200\n",
      "Epoch 46/100\n",
      "50000/50000 [==============================] - 9s 182us/step - loss: 0.1245 - accuracy: 0.9583 - val_loss: 3.6716 - val_accuracy: 0.5262\n",
      "Epoch 47/100\n",
      "50000/50000 [==============================] - 8s 158us/step - loss: 0.1243 - accuracy: 0.9585 - val_loss: 3.6783 - val_accuracy: 0.5232\n",
      "Epoch 48/100\n",
      "50000/50000 [==============================] - 8s 165us/step - loss: 0.1194 - accuracy: 0.9599 - val_loss: 3.7527 - val_accuracy: 0.5204\n",
      "Epoch 49/100\n",
      "50000/50000 [==============================] - 8s 160us/step - loss: 0.1305 - accuracy: 0.9569 - val_loss: 3.7292 - val_accuracy: 0.5265\n",
      "Epoch 50/100\n",
      "50000/50000 [==============================] - 8s 170us/step - loss: 0.1228 - accuracy: 0.9586 - val_loss: 3.7469 - val_accuracy: 0.5257\n",
      "Epoch 51/100\n",
      "50000/50000 [==============================] - 8s 167us/step - loss: 0.1156 - accuracy: 0.9610 - val_loss: 3.8475 - val_accuracy: 0.5268\n",
      "Epoch 52/100\n",
      "50000/50000 [==============================] - 8s 166us/step - loss: 0.1249 - accuracy: 0.9574 - val_loss: 3.7240 - val_accuracy: 0.5233\n",
      "Epoch 53/100\n",
      "50000/50000 [==============================] - 8s 163us/step - loss: 0.0973 - accuracy: 0.9669 - val_loss: 4.0731 - val_accuracy: 0.5209\n",
      "Epoch 54/100\n",
      "50000/50000 [==============================] - 9s 186us/step - loss: 0.1260 - accuracy: 0.9585 - val_loss: 3.8727 - val_accuracy: 0.5257\n",
      "Epoch 55/100\n"
     ]
    },
    {
     "name": "stdout",
     "output_type": "stream",
     "text": [
      "50000/50000 [==============================] - 8s 153us/step - loss: 0.0979 - accuracy: 0.9677 - val_loss: 4.0506 - val_accuracy: 0.5240\n",
      "Epoch 56/100\n",
      "50000/50000 [==============================] - 8s 164us/step - loss: 0.1193 - accuracy: 0.9610 - val_loss: 3.9118 - val_accuracy: 0.5220\n",
      "Epoch 57/100\n",
      "50000/50000 [==============================] - 8s 164us/step - loss: 0.1021 - accuracy: 0.9653 - val_loss: 4.0614 - val_accuracy: 0.5239\n",
      "Epoch 58/100\n",
      "50000/50000 [==============================] - 8s 154us/step - loss: 0.0968 - accuracy: 0.9674 - val_loss: 4.1510 - val_accuracy: 0.5251\n",
      "Epoch 59/100\n",
      "50000/50000 [==============================] - 8s 151us/step - loss: 0.1020 - accuracy: 0.9658 - val_loss: 4.1986 - val_accuracy: 0.5243\n",
      "Epoch 60/100\n",
      "50000/50000 [==============================] - 8s 164us/step - loss: 0.0990 - accuracy: 0.9671 - val_loss: 4.0815 - val_accuracy: 0.5262\n",
      "Epoch 61/100\n",
      "50000/50000 [==============================] - 8s 152us/step - loss: 0.1215 - accuracy: 0.9604 - val_loss: 3.8604 - val_accuracy: 0.5230\n",
      "Epoch 62/100\n",
      "50000/50000 [==============================] - 8s 163us/step - loss: 0.0858 - accuracy: 0.9719 - val_loss: 4.1474 - val_accuracy: 0.5253\n",
      "Epoch 63/100\n",
      "50000/50000 [==============================] - 8s 151us/step - loss: 0.0960 - accuracy: 0.9680 - val_loss: 4.0644 - val_accuracy: 0.5227\n",
      "Epoch 64/100\n",
      "50000/50000 [==============================] - 7s 149us/step - loss: 0.0907 - accuracy: 0.9700 - val_loss: 4.1001 - val_accuracy: 0.5250\n",
      "Epoch 65/100\n",
      "50000/50000 [==============================] - 7s 148us/step - loss: 0.1010 - accuracy: 0.9680 - val_loss: 4.1521 - val_accuracy: 0.5331\n",
      "Epoch 66/100\n",
      "50000/50000 [==============================] - 8s 165us/step - loss: 0.0960 - accuracy: 0.9685 - val_loss: 4.0150 - val_accuracy: 0.5306\n",
      "Epoch 67/100\n",
      "50000/50000 [==============================] - 8s 161us/step - loss: 0.0850 - accuracy: 0.9716 - val_loss: 3.9981 - val_accuracy: 0.5208\n",
      "Epoch 68/100\n",
      "50000/50000 [==============================] - 8s 159us/step - loss: 0.1044 - accuracy: 0.9667 - val_loss: 4.1232 - val_accuracy: 0.5254\n",
      "Epoch 69/100\n",
      "50000/50000 [==============================] - 8s 151us/step - loss: 0.0948 - accuracy: 0.9697 - val_loss: 4.1450 - val_accuracy: 0.5251\n",
      "Epoch 70/100\n",
      "50000/50000 [==============================] - 8s 159us/step - loss: 0.0817 - accuracy: 0.9734 - val_loss: 4.3563 - val_accuracy: 0.5221\n",
      "Epoch 71/100\n",
      "50000/50000 [==============================] - 8s 165us/step - loss: 0.0978 - accuracy: 0.9689 - val_loss: 4.1221 - val_accuracy: 0.5250\n",
      "Epoch 72/100\n",
      "50000/50000 [==============================] - 8s 164us/step - loss: 0.0927 - accuracy: 0.9698 - val_loss: 4.0512 - val_accuracy: 0.5220\n",
      "Epoch 73/100\n",
      "50000/50000 [==============================] - 8s 153us/step - loss: 0.0916 - accuracy: 0.9704 - val_loss: 4.2550 - val_accuracy: 0.5305\n",
      "Epoch 74/100\n",
      "50000/50000 [==============================] - 8s 168us/step - loss: 0.0708 - accuracy: 0.9774 - val_loss: 4.3293 - val_accuracy: 0.5268\n",
      "Epoch 75/100\n",
      "50000/50000 [==============================] - 8s 158us/step - loss: 0.0876 - accuracy: 0.9723 - val_loss: 4.2322 - val_accuracy: 0.5255\n",
      "Epoch 76/100\n",
      "50000/50000 [==============================] - 10s 200us/step - loss: 0.0845 - accuracy: 0.9718 - val_loss: 4.1019 - val_accuracy: 0.5301\n",
      "Epoch 77/100\n",
      "50000/50000 [==============================] - 13s 269us/step - loss: 0.0842 - accuracy: 0.9734 - val_loss: 4.2967 - val_accuracy: 0.5294\n",
      "Epoch 78/100\n",
      "50000/50000 [==============================] - 13s 253us/step - loss: 0.0780 - accuracy: 0.9747 - val_loss: 4.2276 - val_accuracy: 0.5295\n",
      "Epoch 79/100\n",
      "50000/50000 [==============================] - 12s 247us/step - loss: 0.0980 - accuracy: 0.9685 - val_loss: 4.1005 - val_accuracy: 0.5294\n",
      "Epoch 80/100\n",
      "50000/50000 [==============================] - 12s 248us/step - loss: 0.0652 - accuracy: 0.9791 - val_loss: 4.2893 - val_accuracy: 0.5301\n",
      "Epoch 81/100\n",
      "50000/50000 [==============================] - 13s 258us/step - loss: 0.0824 - accuracy: 0.9738 - val_loss: 4.0495 - val_accuracy: 0.5321\n",
      "Epoch 82/100\n",
      "50000/50000 [==============================] - 13s 258us/step - loss: 0.0851 - accuracy: 0.9716 - val_loss: 4.2976 - val_accuracy: 0.5331\n",
      "Epoch 83/100\n",
      "50000/50000 [==============================] - 14s 271us/step - loss: 0.0835 - accuracy: 0.9731 - val_loss: 4.1867 - val_accuracy: 0.5240\n",
      "Epoch 84/100\n",
      "50000/50000 [==============================] - 13s 264us/step - loss: 0.0806 - accuracy: 0.9737 - val_loss: 4.2165 - val_accuracy: 0.5329\n",
      "Epoch 85/100\n",
      "50000/50000 [==============================] - 13s 265us/step - loss: 0.0705 - accuracy: 0.9762 - val_loss: 4.4468 - val_accuracy: 0.5303\n",
      "Epoch 86/100\n",
      "50000/50000 [==============================] - 14s 271us/step - loss: 0.0684 - accuracy: 0.9778 - val_loss: 4.3332 - val_accuracy: 0.5362\n",
      "Epoch 87/100\n",
      "50000/50000 [==============================] - 13s 268us/step - loss: 0.0830 - accuracy: 0.9732 - val_loss: 4.3515 - val_accuracy: 0.5232\n",
      "Epoch 88/100\n",
      "50000/50000 [==============================] - 15s 292us/step - loss: 0.0820 - accuracy: 0.9732 - val_loss: 4.3632 - val_accuracy: 0.5343\n",
      "Epoch 89/100\n",
      "50000/50000 [==============================] - 13s 263us/step - loss: 0.0672 - accuracy: 0.9790 - val_loss: 4.5893 - val_accuracy: 0.5301\n",
      "Epoch 90/100\n",
      "50000/50000 [==============================] - 13s 259us/step - loss: 0.0756 - accuracy: 0.9761 - val_loss: 4.4105 - val_accuracy: 0.5362\n",
      "Epoch 91/100\n",
      "50000/50000 [==============================] - 14s 278us/step - loss: 0.0683 - accuracy: 0.9782 - val_loss: 4.4439 - val_accuracy: 0.5262\n",
      "Epoch 92/100\n",
      "50000/50000 [==============================] - 14s 287us/step - loss: 0.0762 - accuracy: 0.9761 - val_loss: 4.4659 - val_accuracy: 0.5239\n",
      "Epoch 93/100\n",
      "50000/50000 [==============================] - 14s 276us/step - loss: 0.0793 - accuracy: 0.9749 - val_loss: 4.5186 - val_accuracy: 0.5301\n",
      "Epoch 94/100\n",
      "50000/50000 [==============================] - 13s 261us/step - loss: 0.0641 - accuracy: 0.9793 - val_loss: 4.3226 - val_accuracy: 0.5277\n",
      "Epoch 95/100\n",
      "50000/50000 [==============================] - 13s 265us/step - loss: 0.0707 - accuracy: 0.9777 - val_loss: 4.3025 - val_accuracy: 0.5241\n",
      "Epoch 96/100\n",
      "50000/50000 [==============================] - 13s 269us/step - loss: 0.0827 - accuracy: 0.9734 - val_loss: 4.3145 - val_accuracy: 0.5290\n",
      "Epoch 97/100\n",
      "50000/50000 [==============================] - 14s 288us/step - loss: 0.0709 - accuracy: 0.9769 - val_loss: 4.3063 - val_accuracy: 0.5314\n",
      "Epoch 98/100\n",
      "50000/50000 [==============================] - 15s 295us/step - loss: 0.0503 - accuracy: 0.9844 - val_loss: 4.5417 - val_accuracy: 0.5263\n",
      "Epoch 99/100\n",
      "50000/50000 [==============================] - 13s 255us/step - loss: 0.0622 - accuracy: 0.9799 - val_loss: 4.5276 - val_accuracy: 0.5285\n",
      "Epoch 100/100\n",
      "50000/50000 [==============================] - 15s 298us/step - loss: 0.0708 - accuracy: 0.9768 - val_loss: 4.3618 - val_accuracy: 0.5280\n"
     ]
    },
    {
     "data": {
      "text/plain": [
       "<keras.callbacks.callbacks.History at 0x1d4d5691dd8>"
      ]
     },
     "execution_count": 11,
     "metadata": {},
     "output_type": "execute_result"
    }
   ],
   "source": [
    "model.fit(x_train, y_train, \n",
    "          epochs=EPOCHS, \n",
    "          batch_size=BATCH_SIZE, \n",
    "          validation_data=(x_test, y_test), \n",
    "          shuffle=True)"
   ]
  },
  {
   "cell_type": "code",
   "execution_count": 20,
   "metadata": {},
   "outputs": [
    {
     "name": "stdout",
     "output_type": "stream",
     "text": [
      "dict_keys(['val_loss', 'val_accuracy', 'loss', 'accuracy'])\n"
     ]
    }
   ],
   "source": [
    "# list all data in history\n",
    "print(model.history.history.keys())"
   ]
  },
  {
   "cell_type": "code",
   "execution_count": 22,
   "metadata": {},
   "outputs": [
    {
     "data": {
      "image/png": "[encoded data removed]",
      "text/plain": [
       "<Figure size 432x288 with 1 Axes>"
      ]
     },
     "metadata": {
      "needs_background": "light"
     },
     "output_type": "display_data"
    },
    {
     "data": {
      "image/png": "[encoded data removed]",
      "text/plain": [
       "<Figure size 432x288 with 1 Axes>"
      ]
     },
     "metadata": {
      "needs_background": "light"
     },
     "output_type": "display_data"
    }
   ],
   "source": [
    "import matplotlib.pyplot as plt\n",
    "\n",
    "\n",
    "train_loss = model.history.history[\"loss\"]\n",
    "valid_loss = model.history.history[\"val_loss\"]\n",
    "\n",
    "train_acc = model.history.history[\"accuracy\"]\n",
    "valid_acc = model.history.history[\"val_accuracy\"]\n",
    "\n",
    "plt.plot(range(len(train_loss)), train_loss, label=\"train loss\")\n",
    "plt.plot(range(len(valid_loss)), valid_loss, label=\"valid loss\")\n",
    "plt.legend()\n",
    "plt.title(\"Loss\")\n",
    "plt.show()\n",
    "\n",
    "plt.plot(range(len(train_acc)), train_acc, label=\"train accuracy\")\n",
    "plt.plot(range(len(valid_acc)), valid_acc, label=\"valid accuracy\")\n",
    "plt.legend()\n",
    "plt.title(\"Accuracy\")\n",
    "plt.show()"
   ]
  },
  {
   "cell_type": "code",
   "execution_count": null,
   "metadata": {},
   "outputs": [],
   "source": []
  }
 ],
 "metadata": {
  "kernelspec": {
   "display_name": "Python 3",
   "language": "python",
   "name": "python3"
  },
  "language_info": {
   "codemirror_mode": {
    "name": "ipython",
    "version": 3
   },
   "file_extension": ".py",
   "mimetype": "text/x-python",
   "name": "python",
   "nbconvert_exporter": "python",
   "pygments_lexer": "ipython3",
   "version": "3.6.10"
  }
 },
 "nbformat": 4,
 "nbformat_minor": 2
}
