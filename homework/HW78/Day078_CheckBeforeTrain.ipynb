{
 "cells": [
  {
   "cell_type": "markdown",
   "metadata": {},
   "source": [
    "## 範例重點\n",
    "### 學習在模型開始前檢查各個環節\n",
    "1. 是否有 GPU 資源\n",
    "2. 將前處理轉為函式，統一處理訓練、驗證與測試集\n",
    "3. 將超參數變數化，易於重複使用函式、模型等"
   ]
  },
  {
   "cell_type": "code",
   "execution_count": 1,
   "metadata": {},
   "outputs": [
    {
     "name": "stderr",
     "output_type": "stream",
     "text": [
      "'nvidia-smi' 不是內部或外部命令、可執行的程式或批次檔。\n"
     ]
    }
   ],
   "source": [
    "## 確認硬體資源 (如果你是在 Linux, 若是在 Windows, 請參考 https://blog.csdn.net/idwtwt/article/details/78017565)\n",
    "!nvidia-smi"
   ]
  },
  {
   "cell_type": "code",
   "execution_count": 2,
   "metadata": {},
   "outputs": [
    {
     "name": "stderr",
     "output_type": "stream",
     "text": [
      "Using TensorFlow backend.\n"
     ]
    }
   ],
   "source": [
    "import os\n",
    "import keras\n",
    "\n",
    "# 本範例不需使用 GPU, 將 GPU 設定為 \"無\"\n",
    "os.environ[\"CUDA_VISIBLE_DEVICES\"] = \"\""
   ]
  },
  {
   "cell_type": "code",
   "execution_count": 3,
   "metadata": {},
   "outputs": [
    {
     "name": "stdout",
     "output_type": "stream",
     "text": [
      "Downloading data from https://www.cs.toronto.edu/~kriz/cifar-10-python.tar.gz\n",
      "170500096/170498071 [==============================] - 15s 0us/step\n"
     ]
    }
   ],
   "source": [
    "# 從 Keras 的內建功能中，取得 train 與 test 資料集\n",
    "train, test = keras.datasets.cifar10.load_data()"
   ]
  },
  {
   "cell_type": "code",
   "execution_count": 4,
   "metadata": {},
   "outputs": [],
   "source": [
    "## 資料前處理\n",
    "def preproc_x(x, flatten=True):\n",
    "    x = x / 255.\n",
    "    if flatten:\n",
    "        x = x.reshape((len(x), -1))\n",
    "    return x\n",
    "\n",
    "def preproc_y(y, num_classes=10):\n",
    "    if y.shape[-1] == 1:\n",
    "        y = keras.utils.to_categorical(y, num_classes)\n",
    "    return y    "
   ]
  },
  {
   "cell_type": "code",
   "execution_count": 5,
   "metadata": {},
   "outputs": [],
   "source": [
    "x_train, y_train = train\n",
    "x_test, y_test = test\n",
    "\n",
    "# 資料前處理 - X 標準化\n",
    "x_train = preproc_x(x_train)\n",
    "x_test = preproc_x(x_test)\n",
    "\n",
    "# 資料前處理 -Y 轉成 onehot\n",
    "y_train = preproc_y(y_train)\n",
    "y_test = preproc_y(y_test)"
   ]
  },
  {
   "cell_type": "code",
   "execution_count": 6,
   "metadata": {},
   "outputs": [],
   "source": [
    "def build_mlp(input_shape, output_units=10, num_neurons=[512, 256, 128]):\n",
    "    input_layer = keras.layers.Input(input_shape)\n",
    "    \n",
    "    for i, n_units in enumerate(num_neurons):\n",
    "        if i == 0:\n",
    "            x = keras.layers.Dense(units=n_units, activation=\"relu\", name=\"hidden_layer\"+str(i+1))(input_layer)\n",
    "        else:\n",
    "            x = keras.layers.Dense(units=n_units, activation=\"relu\", name=\"hidden_layer\"+str(i+1))(x)\n",
    "    \n",
    "    out = keras.layers.Dense(units=output_units, activation=\"softmax\", name=\"output\")(x)\n",
    "    \n",
    "    model = keras.models.Model(inputs=[input_layer], outputs=[out])\n",
    "    return model"
   ]
  },
  {
   "cell_type": "code",
   "execution_count": 7,
   "metadata": {},
   "outputs": [
    {
     "name": "stdout",
     "output_type": "stream",
     "text": [
      "Model: \"model_1\"\n",
      "_________________________________________________________________\n",
      "Layer (type)                 Output Shape              Param #   \n",
      "=================================================================\n",
      "input_1 (InputLayer)         (None, 3072)              0         \n",
      "_________________________________________________________________\n",
      "hidden_layer1 (Dense)        (None, 512)               1573376   \n",
      "_________________________________________________________________\n",
      "hidden_layer2 (Dense)        (None, 256)               131328    \n",
      "_________________________________________________________________\n",
      "hidden_layer3 (Dense)        (None, 128)               32896     \n",
      "_________________________________________________________________\n",
      "output (Dense)               (None, 10)                1290      \n",
      "=================================================================\n",
      "Total params: 1,738,890\n",
      "Trainable params: 1,738,890\n",
      "Non-trainable params: 0\n",
      "_________________________________________________________________\n"
     ]
    }
   ],
   "source": [
    "model = build_mlp(input_shape=x_train.shape[1:])\n",
    "model.summary()"
   ]
  },
  {
   "cell_type": "code",
   "execution_count": 8,
   "metadata": {},
   "outputs": [],
   "source": [
    "## 超參數設定\n",
    "LEARNING_RATE = 0.001\n",
    "EPOCHS = 100\n",
    "BATCH_SIZE = 256"
   ]
  },
  {
   "cell_type": "code",
   "execution_count": 9,
   "metadata": {},
   "outputs": [],
   "source": [
    "optimizer = keras.optimizers.Adam(lr=LEARNING_RATE)\n",
    "model.compile(loss=\"categorical_crossentropy\", metrics=[\"accuracy\"], optimizer=optimizer)"
   ]
  },
  {
   "cell_type": "code",
   "execution_count": null,
   "metadata": {},
   "outputs": [
    {
     "name": "stdout",
     "output_type": "stream",
     "text": [
      "Train on 50000 samples, validate on 10000 samples\n",
      "Epoch 1/100\n",
      "50000/50000 [==============================] - 8s 164us/step - loss: 1.9233 - accuracy: 0.3046 - val_loss: 1.7573 - val_accuracy: 0.3688\n",
      "Epoch 2/100\n",
      "50000/50000 [==============================] - 8s 152us/step - loss: 1.7118 - accuracy: 0.3899 - val_loss: 1.6842 - val_accuracy: 0.3983\n",
      "Epoch 3/100\n",
      "50000/50000 [==============================] - 8s 158us/step - loss: 1.6148 - accuracy: 0.4252 - val_loss: 1.5657 - val_accuracy: 0.4447\n",
      "Epoch 4/100\n",
      "50000/50000 [==============================] - 8s 157us/step - loss: 1.5513 - accuracy: 0.4478 - val_loss: 1.5457 - val_accuracy: 0.4494\n",
      "Epoch 5/100\n",
      "50000/50000 [==============================] - 8s 163us/step - loss: 1.5012 - accuracy: 0.4651 - val_loss: 1.4850 - val_accuracy: 0.4718\n",
      "Epoch 6/100\n",
      "50000/50000 [==============================] - 8s 155us/step - loss: 1.4643 - accuracy: 0.4786 - val_loss: 1.4602 - val_accuracy: 0.4821\n",
      "Epoch 7/100\n",
      "50000/50000 [==============================] - 7s 148us/step - loss: 1.4395 - accuracy: 0.4871 - val_loss: 1.4575 - val_accuracy: 0.4803\n",
      "Epoch 8/100\n",
      "50000/50000 [==============================] - 8s 160us/step - loss: 1.4069 - accuracy: 0.4978 - val_loss: 1.4374 - val_accuracy: 0.4853\n",
      "Epoch 9/100\n",
      "50000/50000 [==============================] - 8s 154us/step - loss: 1.3783 - accuracy: 0.5093 - val_loss: 1.4327 - val_accuracy: 0.4906\n",
      "Epoch 10/100\n",
      "50000/50000 [==============================] - 8s 156us/step - loss: 1.3481 - accuracy: 0.5204 - val_loss: 1.4107 - val_accuracy: 0.4973\n",
      "Epoch 11/100\n",
      "50000/50000 [==============================] - 8s 163us/step - loss: 1.3255 - accuracy: 0.5292 - val_loss: 1.4108 - val_accuracy: 0.4972\n",
      "Epoch 12/100\n",
      "50000/50000 [==============================] - 9s 171us/step - loss: 1.2971 - accuracy: 0.5386 - val_loss: 1.3665 - val_accuracy: 0.5136\n",
      "Epoch 13/100\n",
      "50000/50000 [==============================] - 9s 171us/step - loss: 1.2671 - accuracy: 0.5488 - val_loss: 1.3802 - val_accuracy: 0.5073\n",
      "Epoch 14/100\n",
      "50000/50000 [==============================] - 8s 164us/step - loss: 1.2514 - accuracy: 0.5535 - val_loss: 1.3766 - val_accuracy: 0.5137\n",
      "Epoch 15/100\n",
      "50000/50000 [==============================] - 9s 173us/step - loss: 1.2290 - accuracy: 0.5613 - val_loss: 1.3910 - val_accuracy: 0.5065\n",
      "Epoch 16/100\n",
      "50000/50000 [==============================] - 8s 161us/step - loss: 1.2108 - accuracy: 0.5693 - val_loss: 1.3428 - val_accuracy: 0.5240\n",
      "Epoch 17/100\n",
      "50000/50000 [==============================] - 8s 167us/step - loss: 1.1876 - accuracy: 0.5784 - val_loss: 1.3918 - val_accuracy: 0.5078\n",
      "Epoch 18/100\n",
      "50000/50000 [==============================] - 9s 175us/step - loss: 1.1686 - accuracy: 0.5831 - val_loss: 1.3820 - val_accuracy: 0.5107\n",
      "Epoch 19/100\n",
      "50000/50000 [==============================] - 8s 157us/step - loss: 1.1553 - accuracy: 0.5850 - val_loss: 1.3779 - val_accuracy: 0.5141\n",
      "Epoch 20/100\n",
      "50000/50000 [==============================] - 8s 163us/step - loss: 1.1344 - accuracy: 0.5955 - val_loss: 1.3705 - val_accuracy: 0.5320\n",
      "Epoch 21/100\n",
      "50000/50000 [==============================] - 8s 165us/step - loss: 1.1162 - accuracy: 0.6040 - val_loss: 1.3577 - val_accuracy: 0.5194\n",
      "Epoch 22/100\n",
      "50000/50000 [==============================] - 8s 164us/step - loss: 1.0935 - accuracy: 0.6093 - val_loss: 1.3995 - val_accuracy: 0.5152\n",
      "Epoch 23/100\n",
      "50000/50000 [==============================] - 9s 176us/step - loss: 1.0743 - accuracy: 0.6174 - val_loss: 1.3513 - val_accuracy: 0.5269\n",
      "Epoch 24/100\n",
      "50000/50000 [==============================] - 8s 158us/step - loss: 1.0620 - accuracy: 0.6201 - val_loss: 1.4178 - val_accuracy: 0.5095\n",
      "Epoch 25/100\n",
      "50000/50000 [==============================] - 8s 159us/step - loss: 1.0451 - accuracy: 0.6262 - val_loss: 1.4063 - val_accuracy: 0.5148\n",
      "Epoch 26/100\n",
      "50000/50000 [==============================] - 8s 157us/step - loss: 1.0234 - accuracy: 0.6341 - val_loss: 1.4154 - val_accuracy: 0.5215\n",
      "Epoch 27/100\n",
      "50000/50000 [==============================] - 8s 165us/step - loss: 1.0095 - accuracy: 0.6397 - val_loss: 1.4085 - val_accuracy: 0.5215\n",
      "Epoch 28/100\n",
      "50000/50000 [==============================] - 8s 152us/step - loss: 0.9896 - accuracy: 0.6460 - val_loss: 1.4081 - val_accuracy: 0.5175\n",
      "Epoch 29/100\n",
      "50000/50000 [==============================] - 8s 164us/step - loss: 0.9687 - accuracy: 0.6540 - val_loss: 1.4188 - val_accuracy: 0.5262\n",
      "Epoch 30/100\n",
      "50000/50000 [==============================] - 8s 155us/step - loss: 0.9547 - accuracy: 0.6598 - val_loss: 1.4726 - val_accuracy: 0.5030\n",
      "Epoch 31/100\n",
      "50000/50000 [==============================] - 8s 152us/step - loss: 0.9322 - accuracy: 0.6684 - val_loss: 1.4305 - val_accuracy: 0.5277\n",
      "Epoch 32/100\n",
      "50000/50000 [==============================] - 7s 143us/step - loss: 0.9117 - accuracy: 0.6752 - val_loss: 1.4193 - val_accuracy: 0.5307\n",
      "Epoch 33/100\n",
      "50000/50000 [==============================] - 8s 151us/step - loss: 0.8997 - accuracy: 0.6791 - val_loss: 1.4634 - val_accuracy: 0.5174\n",
      "Epoch 34/100\n",
      "50000/50000 [==============================] - 8s 163us/step - loss: 0.8932 - accuracy: 0.6813 - val_loss: 1.4569 - val_accuracy: 0.5249\n",
      "Epoch 35/100\n",
      "50000/50000 [==============================] - 9s 172us/step - loss: 0.8666 - accuracy: 0.6903 - val_loss: 1.4754 - val_accuracy: 0.5315\n",
      "Epoch 36/100\n",
      "50000/50000 [==============================] - 8s 154us/step - loss: 0.8512 - accuracy: 0.6965 - val_loss: 1.4806 - val_accuracy: 0.5217\n",
      "Epoch 37/100\n",
      "50000/50000 [==============================] - 8s 162us/step - loss: 0.8304 - accuracy: 0.7051 - val_loss: 1.6010 - val_accuracy: 0.5108\n",
      "Epoch 38/100\n",
      "50000/50000 [==============================] - 8s 164us/step - loss: 0.8259 - accuracy: 0.7050 - val_loss: 1.5451 - val_accuracy: 0.5126\n",
      "Epoch 39/100\n",
      "50000/50000 [==============================] - 8s 161us/step - loss: 0.8000 - accuracy: 0.7140 - val_loss: 1.5339 - val_accuracy: 0.5213\n",
      "Epoch 40/100\n",
      "50000/50000 [==============================] - 8s 165us/step - loss: 0.7992 - accuracy: 0.7127 - val_loss: 1.5752 - val_accuracy: 0.5161\n",
      "Epoch 41/100\n",
      "50000/50000 [==============================] - 8s 157us/step - loss: 0.7938 - accuracy: 0.7151 - val_loss: 1.5448 - val_accuracy: 0.5266\n",
      "Epoch 42/100\n",
      "50000/50000 [==============================] - 8s 159us/step - loss: 0.7640 - accuracy: 0.7274 - val_loss: 1.6305 - val_accuracy: 0.5105\n",
      "Epoch 43/100\n",
      "50000/50000 [==============================] - 8s 161us/step - loss: 0.7503 - accuracy: 0.7313 - val_loss: 1.6107 - val_accuracy: 0.5198\n",
      "Epoch 44/100\n",
      "50000/50000 [==============================] - 8s 159us/step - loss: 0.7307 - accuracy: 0.7382 - val_loss: 1.6155 - val_accuracy: 0.5268\n",
      "Epoch 45/100\n",
      "50000/50000 [==============================] - 9s 173us/step - loss: 0.7238 - accuracy: 0.7423 - val_loss: 1.6459 - val_accuracy: 0.5156\n",
      "Epoch 46/100\n",
      "50000/50000 [==============================] - 8s 160us/step - loss: 0.6928 - accuracy: 0.7545 - val_loss: 1.7024 - val_accuracy: 0.5138\n",
      "Epoch 47/100\n",
      "50000/50000 [==============================] - 8s 157us/step - loss: 0.7038 - accuracy: 0.7479 - val_loss: 1.7054 - val_accuracy: 0.5150\n",
      "Epoch 48/100\n",
      "50000/50000 [==============================] - 8s 162us/step - loss: 0.6718 - accuracy: 0.7603 - val_loss: 1.7059 - val_accuracy: 0.5199\n",
      "Epoch 49/100\n",
      "50000/50000 [==============================] - 8s 159us/step - loss: 0.6685 - accuracy: 0.7595 - val_loss: 1.7352 - val_accuracy: 0.5108\n",
      "Epoch 50/100\n",
      "50000/50000 [==============================] - 8s 151us/step - loss: 0.6708 - accuracy: 0.7594 - val_loss: 1.7416 - val_accuracy: 0.5227\n",
      "Epoch 51/100\n",
      "50000/50000 [==============================] - 8s 150us/step - loss: 0.6331 - accuracy: 0.7741 - val_loss: 1.7560 - val_accuracy: 0.5207\n",
      "Epoch 52/100\n",
      "50000/50000 [==============================] - 7s 149us/step - loss: 0.6246 - accuracy: 0.7778 - val_loss: 1.8290 - val_accuracy: 0.5018\n",
      "Epoch 53/100\n",
      "50000/50000 [==============================] - 8s 153us/step - loss: 0.6088 - accuracy: 0.7843 - val_loss: 1.8509 - val_accuracy: 0.5134\n",
      "Epoch 54/100\n",
      "50000/50000 [==============================] - 8s 158us/step - loss: 0.6005 - accuracy: 0.7844 - val_loss: 1.8309 - val_accuracy: 0.5105\n",
      "Epoch 55/100\n"
     ]
    },
    {
     "name": "stdout",
     "output_type": "stream",
     "text": [
      "50000/50000 [==============================] - 8s 169us/step - loss: 0.5834 - accuracy: 0.7903 - val_loss: 1.8844 - val_accuracy: 0.5185\n",
      "Epoch 56/100\n",
      "50000/50000 [==============================] - 8s 157us/step - loss: 0.5775 - accuracy: 0.7942 - val_loss: 1.9297 - val_accuracy: 0.5103\n",
      "Epoch 57/100\n",
      "50000/50000 [==============================] - 8s 162us/step - loss: 0.5702 - accuracy: 0.7964 - val_loss: 1.9298 - val_accuracy: 0.5015\n",
      "Epoch 58/100\n",
      "50000/50000 [==============================] - 8s 153us/step - loss: 0.5671 - accuracy: 0.7963 - val_loss: 1.9864 - val_accuracy: 0.5041\n",
      "Epoch 59/100\n",
      "50000/50000 [==============================] - 8s 159us/step - loss: 0.5497 - accuracy: 0.8043 - val_loss: 2.0063 - val_accuracy: 0.5137\n",
      "Epoch 60/100\n",
      "25088/50000 [==============>...............] - ETA: 3s - loss: 0.5406 - accuracy: 0.8085"
     ]
    }
   ],
   "source": [
    "model.fit(x_train, y_train, \n",
    "          epochs=EPOCHS, \n",
    "          batch_size=BATCH_SIZE, \n",
    "          validation_data=(x_test, y_test), \n",
    "          shuffle=True)"
   ]
  },
  {
   "cell_type": "code",
   "execution_count": null,
   "metadata": {},
   "outputs": [],
   "source": [
    "# 訓練模型並檢視驗證集的結果\n",
    "import matplotlib.pyplot as plt\n",
    "\n",
    "train_loss = model.history.history[\"loss\"]\n",
    "valid_loss = model.history.history[\"val_loss\"]\n",
    "\n",
    "train_acc = model.history.history[\"acc\"]\n",
    "valid_acc = model.history.history[\"val_acc\"]\n",
    "\n",
    "plt.plot(range(len(train_loss)), train_loss, label=\"train loss\")\n",
    "plt.plot(range(len(valid_loss)), valid_loss, label=\"valid loss\")\n",
    "plt.legend()\n",
    "plt.title(\"Loss\")\n",
    "plt.show()\n",
    "\n",
    "plt.plot(range(len(train_acc)), train_acc, label=\"train accuracy\")\n",
    "plt.plot(range(len(valid_acc)), valid_acc, label=\"valid accuracy\")\n",
    "plt.legend()\n",
    "plt.title(\"Accuracy\")\n",
    "plt.show()"
   ]
  },
  {
   "cell_type": "markdown",
   "metadata": {},
   "source": [
    "## Work\n",
    "1. 請嘗試將 preproc_x 替換成以每筆資料的 min/max 進行標準化至 -1 ~ 1 間，再進行訓練\n",
    "2. 請嘗試將 mlp 疊更深 (e.g 5~10 層)，進行訓練後觀察 learning curve 的走勢\n",
    "3. (optional) 請改用 GPU 進行訓練 (如果你有 GPU 的話)，比較使用 CPU 與 GPU 的訓練速度"
   ]
  }
 ],
 "metadata": {
  "kernelspec": {
   "display_name": "Python 3",
   "language": "python",
   "name": "python3"
  },
  "language_info": {
   "codemirror_mode": {
    "name": "ipython",
    "version": 3
   },
   "file_extension": ".py",
   "mimetype": "text/x-python",
   "name": "python",
   "nbconvert_exporter": "python",
   "pygments_lexer": "ipython3",
   "version": "3.6.10"
  }
 },
 "nbformat": 4,
 "nbformat_minor": 2
}
