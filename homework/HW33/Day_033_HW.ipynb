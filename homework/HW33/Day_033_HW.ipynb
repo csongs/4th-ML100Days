{
 "cells": [
  {
   "cell_type": "markdown",
   "metadata": {},
   "source": [
    "## 練習時間"
   ]
  },
  {
   "cell_type": "markdown",
   "metadata": {},
   "source": [
    "請觀看李宏毅教授以神奇寶貝進化 CP 值預測的範例，解說何謂機器學習與過擬合。並回答以下問題"
   ]
  },
  {
   "cell_type": "markdown",
   "metadata": {},
   "source": [
    "[youtube](https://www.youtube.com/watch?v=fegAeph9UaA)"
   ]
  },
  {
   "cell_type": "markdown",
   "metadata": {},
   "source": [
    "### 1. 模型的泛化能力 (generalization) 是指什麼？ \n",
    "\n",
    "指ML模型「對未知資料集」的預測能力\n",
    "\n",
    "### 2. 分類問題與回歸問題分別可用的目標函數有哪些？\n",
    "\n",
    "\n",
    "\n",
    "#### 回歸\n",
    "\n",
    "- MSE : 均方誤差（ L2 損失函數 ）\n",
    "\n",
    "- MAE : 平均絕對值誤差（ L1 損失函數 ）\n",
    "\n",
    "- Huber 損失函數（ 平滑的平均絕對誤差 ）\n",
    "\n",
    "- Log-Cosh 損失函數\n",
    "\n",
    "https://buzzorange.com/techorange/2018/06/22/computer-learning-5-tips/\n",
    "\n",
    "#### 分類\n",
    "\n",
    "- 交叉熵損失函數 softmax\n",
    "\n",
    "- 合頁損失函數\n",
    "\n",
    "- 歐式距離\n",
    "\n",
    "- 對比損失函數\n",
    "\n",
    "- 信息增益\n",
    "\n",
    "https://zhuanlan.zhihu.com/p/44722270"
   ]
  },
  {
   "cell_type": "code",
   "execution_count": null,
   "metadata": {},
   "outputs": [],
   "source": []
  }
 ],
 "metadata": {
  "kernelspec": {
   "display_name": "Python 3",
   "language": "python",
   "name": "python3"
  },
  "language_info": {
   "codemirror_mode": {
    "name": "ipython",
    "version": 3
   },
   "file_extension": ".py",
   "mimetype": "text/x-python",
   "name": "python",
   "nbconvert_exporter": "python",
   "pygments_lexer": "ipython3",
   "version": "3.6.7"
  }
 },
 "nbformat": 4,
 "nbformat_minor": 2
}
